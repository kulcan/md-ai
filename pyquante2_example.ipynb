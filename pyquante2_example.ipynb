{
 "cells": [
  {
   "cell_type": "code",
   "execution_count": 15,
   "id": "4c46aa0c-4009-4a05-9130-9c617df94779",
   "metadata": {},
   "outputs": [],
   "source": [
    "import pyquante2 as pq2"
   ]
  },
  {
   "cell_type": "code",
   "execution_count": 17,
   "id": "d48ad42f-a60d-494f-a094-e3dd5e764e74",
   "metadata": {},
   "outputs": [
    {
     "name": "stderr",
     "output_type": "stream",
     "text": [
      "/opt/conda/lib/python3.8/site-packages/IPython/core/formatters.py:366: FormatterWarning: text/html formatter returned invalid type <class 'bytes'> (expected <class 'str'>) for object: Stoichiometry = H, Charge = 0, Multiplicity = 2\n",
      "1 H     0.000000     0.000000     0.000000\n",
      "  warnings.warn(\n"
     ]
    },
    {
     "data": {
      "text/plain": [
       "Stoichiometry = H, Charge = 0, Multiplicity = 2\n",
       "1 H     0.000000     0.000000     0.000000"
      ]
     },
     "execution_count": 17,
     "metadata": {},
     "output_type": "execute_result"
    }
   ],
   "source": [
    "h = pq2.molecule([(1,0,0,0)])\n",
    "h"
   ]
  },
  {
   "cell_type": "code",
   "execution_count": null,
   "id": "c5a0bd12-cb00-463a-b74c-fab23da0e736",
   "metadata": {},
   "outputs": [],
   "source": []
  }
 ],
 "metadata": {
  "kernelspec": {
   "display_name": "Python 3",
   "language": "python",
   "name": "python3"
  },
  "language_info": {
   "codemirror_mode": {
    "name": "ipython",
    "version": 3
   },
   "file_extension": ".py",
   "mimetype": "text/x-python",
   "name": "python",
   "nbconvert_exporter": "python",
   "pygments_lexer": "ipython3",
   "version": "3.8.12"
  }
 },
 "nbformat": 4,
 "nbformat_minor": 5
}
